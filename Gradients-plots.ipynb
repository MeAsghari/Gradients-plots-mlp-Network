{
 "cells": [
  {
   "cell_type": "markdown",
   "metadata": {
    "id": "fQFlVvECeZsD"
   },
   "source": [
    "# **Section 0: Imports and Install📢**"
   ]
  },
  {
   "cell_type": "code",
   "execution_count": 1,
   "metadata": {
    "id": "Jnc2LOc9eRjD"
   },
   "outputs": [],
   "source": [
    "##imports\n",
    "import torch\n",
    "import torch.nn as nn\n",
    "import torch.optim as optim\n",
    "from torch.utils.data import TensorDataset, DataLoader\n",
    "\n",
    "import time\n",
    "\n",
    "import numpy as np\n",
    "\n",
    "import pandas as pd\n",
    "import matplotlib.pyplot as plt\n",
    "from sklearn.model_selection import train_test_split\n",
    "\n",
    "from torchmetrics import Accuracy\n",
    "import seaborn as sns"
   ]
  },
  {
   "cell_type": "markdown",
   "metadata": {
    "id": "OsNaqujTeiGx"
   },
   "source": [
    "# **Section 1: Load Dataset📑**"
   ]
  },
  {
   "cell_type": "markdown",
   "metadata": {
    "id": "vphwvSkRI_Yz"
   },
   "source": [
    "## 1-1: Read Dataset"
   ]
  },
  {
   "cell_type": "code",
   "execution_count": 2,
   "metadata": {
    "colab": {
     "base_uri": "https://localhost:8080/",
     "height": 206
    },
    "id": "B7Vi15jAoOtQ",
    "outputId": "94707325-86ec-4fbd-8b34-a6db13206ebd"
   },
   "outputs": [
    {
     "data": {
      "text/html": [
       "<div>\n",
       "<style scoped>\n",
       "    .dataframe tbody tr th:only-of-type {\n",
       "        vertical-align: middle;\n",
       "    }\n",
       "\n",
       "    .dataframe tbody tr th {\n",
       "        vertical-align: top;\n",
       "    }\n",
       "\n",
       "    .dataframe thead th {\n",
       "        text-align: right;\n",
       "    }\n",
       "</style>\n",
       "<table border=\"1\" class=\"dataframe\">\n",
       "  <thead>\n",
       "    <tr style=\"text-align: right;\">\n",
       "      <th></th>\n",
       "      <th>age</th>\n",
       "      <th>anaemia</th>\n",
       "      <th>creatinine_phosphokinase</th>\n",
       "      <th>diabetes</th>\n",
       "      <th>ejection_fraction</th>\n",
       "      <th>high_blood_pressure</th>\n",
       "      <th>platelets</th>\n",
       "      <th>serum_creatinine</th>\n",
       "      <th>serum_sodium</th>\n",
       "      <th>sex</th>\n",
       "      <th>smoking</th>\n",
       "      <th>time</th>\n",
       "      <th>DEATH_EVENT</th>\n",
       "    </tr>\n",
       "  </thead>\n",
       "  <tbody>\n",
       "    <tr>\n",
       "      <th>0</th>\n",
       "      <td>55.0</td>\n",
       "      <td>0</td>\n",
       "      <td>7861</td>\n",
       "      <td>0</td>\n",
       "      <td>38</td>\n",
       "      <td>0</td>\n",
       "      <td>263358.03</td>\n",
       "      <td>1.1</td>\n",
       "      <td>136</td>\n",
       "      <td>1</td>\n",
       "      <td>0</td>\n",
       "      <td>6</td>\n",
       "      <td>1</td>\n",
       "    </tr>\n",
       "    <tr>\n",
       "      <th>1</th>\n",
       "      <td>65.0</td>\n",
       "      <td>0</td>\n",
       "      <td>146</td>\n",
       "      <td>0</td>\n",
       "      <td>20</td>\n",
       "      <td>0</td>\n",
       "      <td>162000.00</td>\n",
       "      <td>1.3</td>\n",
       "      <td>129</td>\n",
       "      <td>1</td>\n",
       "      <td>1</td>\n",
       "      <td>7</td>\n",
       "      <td>1</td>\n",
       "    </tr>\n",
       "    <tr>\n",
       "      <th>2</th>\n",
       "      <td>50.0</td>\n",
       "      <td>1</td>\n",
       "      <td>111</td>\n",
       "      <td>0</td>\n",
       "      <td>20</td>\n",
       "      <td>0</td>\n",
       "      <td>210000.00</td>\n",
       "      <td>1.9</td>\n",
       "      <td>137</td>\n",
       "      <td>1</td>\n",
       "      <td>0</td>\n",
       "      <td>7</td>\n",
       "      <td>1</td>\n",
       "    </tr>\n",
       "    <tr>\n",
       "      <th>3</th>\n",
       "      <td>65.0</td>\n",
       "      <td>1</td>\n",
       "      <td>160</td>\n",
       "      <td>1</td>\n",
       "      <td>20</td>\n",
       "      <td>0</td>\n",
       "      <td>327000.00</td>\n",
       "      <td>2.7</td>\n",
       "      <td>116</td>\n",
       "      <td>0</td>\n",
       "      <td>0</td>\n",
       "      <td>8</td>\n",
       "      <td>1</td>\n",
       "    </tr>\n",
       "    <tr>\n",
       "      <th>4</th>\n",
       "      <td>75.0</td>\n",
       "      <td>1</td>\n",
       "      <td>246</td>\n",
       "      <td>0</td>\n",
       "      <td>15</td>\n",
       "      <td>0</td>\n",
       "      <td>127000.00</td>\n",
       "      <td>1.2</td>\n",
       "      <td>137</td>\n",
       "      <td>1</td>\n",
       "      <td>0</td>\n",
       "      <td>10</td>\n",
       "      <td>1</td>\n",
       "    </tr>\n",
       "  </tbody>\n",
       "</table>\n",
       "</div>"
      ],
      "text/plain": [
       "    age  anaemia  creatinine_phosphokinase  diabetes  ejection_fraction  \\\n",
       "0  55.0        0                      7861         0                 38   \n",
       "1  65.0        0                       146         0                 20   \n",
       "2  50.0        1                       111         0                 20   \n",
       "3  65.0        1                       160         1                 20   \n",
       "4  75.0        1                       246         0                 15   \n",
       "\n",
       "   high_blood_pressure  platelets  serum_creatinine  serum_sodium  sex  \\\n",
       "0                    0  263358.03               1.1           136    1   \n",
       "1                    0  162000.00               1.3           129    1   \n",
       "2                    0  210000.00               1.9           137    1   \n",
       "3                    0  327000.00               2.7           116    0   \n",
       "4                    0  127000.00               1.2           137    1   \n",
       "\n",
       "   smoking  time  DEATH_EVENT  \n",
       "0        0     6            1  \n",
       "1        1     7            1  \n",
       "2        0     7            1  \n",
       "3        0     8            1  \n",
       "4        0    10            1  "
      ]
     },
     "execution_count": 2,
     "metadata": {},
     "output_type": "execute_result"
    }
   ],
   "source": [
    "df = pd.read_csv('dataset/train.csv')\n",
    "df.head()"
   ]
  },
  {
   "cell_type": "code",
   "execution_count": 3,
   "metadata": {
    "colab": {
     "base_uri": "https://localhost:8080/"
    },
    "id": "iRJXajtDvzyA",
    "outputId": "af9c844f-81ee-428e-8283-af8c8783fd03"
   },
   "outputs": [
    {
     "data": {
      "text/plain": [
       "((249, 12), (249,))"
      ]
     },
     "execution_count": 3,
     "metadata": {},
     "output_type": "execute_result"
    }
   ],
   "source": [
    "X = df.drop('DEATH_EVENT' , axis=1).values\n",
    "y = df['DEATH_EVENT']\n",
    "X.shape , y.shape"
   ]
  },
  {
   "cell_type": "markdown",
   "metadata": {
    "id": "Q6PmiPs8ywKY"
   },
   "source": [
    "##1-2: Train_Test_Split"
   ]
  },
  {
   "cell_type": "code",
   "execution_count": 4,
   "metadata": {
    "colab": {
     "base_uri": "https://localhost:8080/"
    },
    "id": "ml1npqT8yzrO",
    "outputId": "85fccead-4bed-40b9-b8ce-7755102a4612"
   },
   "outputs": [
    {
     "name": "stdout",
     "output_type": "stream",
     "text": [
      "(199, 12)\n",
      "(199,)\n",
      "(50, 12)\n",
      "(50,)\n"
     ]
    }
   ],
   "source": [
    "x_train , x_valid , y_train , y_valid = train_test_split(X , y , test_size=0.2 , random_state=0 , stratify=y)\n",
    "print(x_train.shape)\n",
    "print(y_train.shape)\n",
    "print(x_valid.shape)\n",
    "print(y_valid.shape)"
   ]
  },
  {
   "cell_type": "markdown",
   "metadata": {
    "id": "5qOD027He6RR"
   },
   "source": [
    "##1-3: Preprocess"
   ]
  },
  {
   "cell_type": "code",
   "execution_count": 5,
   "metadata": {
    "id": "ktw4x7sQPrGx"
   },
   "outputs": [],
   "source": [
    "x_train = torch.FloatTensor(x_train)\n",
    "y_train = torch.FloatTensor(y_train.values)"
   ]
  },
  {
   "cell_type": "code",
   "execution_count": 6,
   "metadata": {
    "id": "PXUkeA8GxrME"
   },
   "outputs": [],
   "source": [
    "x_valid = torch.FloatTensor(x_valid)\n",
    "y_valid = torch.FloatTensor(y_valid.values)"
   ]
  },
  {
   "cell_type": "code",
   "execution_count": 7,
   "metadata": {
    "id": "B2ymhblEx9Hj"
   },
   "outputs": [],
   "source": [
    "mu = x_train.mean(dim=0)\n",
    "std = x_train.std(dim=0)\n",
    "x_train = (x_train - mu) / std\n",
    "x_valid = (x_valid - mu) / std"
   ]
  },
  {
   "cell_type": "markdown",
   "metadata": {
    "id": "5w5NN9K80w3r"
   },
   "source": [
    "##1-4: Dataloader"
   ]
  },
  {
   "cell_type": "code",
   "execution_count": 8,
   "metadata": {
    "colab": {
     "base_uri": "https://localhost:8080/"
    },
    "id": "SDhFku1FJSWZ",
    "outputId": "cd8f96f7-3c90-4193-c6f3-c8b05736e6dc"
   },
   "outputs": [
    {
     "data": {
      "text/plain": [
       "1"
      ]
     },
     "execution_count": 8,
     "metadata": {},
     "output_type": "execute_result"
    }
   ],
   "source": [
    "train_data = TensorDataset(x_train , y_train)\n",
    "train_loader = DataLoader(train_data , x_train.shape[0] , True)\n",
    "len(train_loader)"
   ]
  },
  {
   "cell_type": "code",
   "execution_count": 9,
   "metadata": {
    "colab": {
     "base_uri": "https://localhost:8080/"
    },
    "id": "U2YvSCaO0B49",
    "outputId": "107ed9f0-9c46-4825-db59-ffa530aa7494"
   },
   "outputs": [
    {
     "data": {
      "text/plain": [
       "5"
      ]
     },
     "execution_count": 9,
     "metadata": {},
     "output_type": "execute_result"
    }
   ],
   "source": [
    "valid_dataset = TensorDataset(x_valid, y_valid)\n",
    "valid_loader = DataLoader(valid_dataset, batch_size=10, shuffle=False)\n",
    "len(valid_loader)"
   ]
  },
  {
   "cell_type": "markdown",
   "metadata": {
    "id": "-NBcJXJkfgUI",
    "tags": []
   },
   "source": [
    "#**Section 2: Define Model🧠**"
   ]
  },
  {
   "cell_type": "markdown",
   "metadata": {
    "id": "vS9kfN73JdVR"
   },
   "source": [
    "##2-1: make your MLP Model"
   ]
  },
  {
   "cell_type": "code",
   "execution_count": 10,
   "metadata": {
    "id": "2b9Po2RYfi8C"
   },
   "outputs": [],
   "source": [
    "num_features = 12\n",
    "num_classes = 1\n",
    "h1 = 64\n",
    "h2 = 32\n",
    "h3 = 16\n",
    "h4 = 8\n",
    "\n",
    "model = nn.Sequential(nn.Linear(num_features , h1),\n",
    "                      nn.ReLU(),\n",
    "\n",
    "                      nn.Linear(h1 , h2),\n",
    "                      nn.ReLU(),\n",
    "\n",
    "                      nn.Linear(h2 , h3),\n",
    "                      nn.ReLU(),\n",
    "\n",
    "                      nn.Linear(h3 , h4),\n",
    "                      nn.ReLU(),\n",
    "\n",
    "                      nn.Linear(h4 , num_classes),\n",
    "                      )"
   ]
  },
  {
   "cell_type": "code",
   "execution_count": 11,
   "metadata": {
    "colab": {
     "base_uri": "https://localhost:8080/"
    },
    "id": "7BoKvFpG2oYj",
    "jupyter": {
     "source_hidden": true
    },
    "outputId": "25f6d4f1-3514-4090-d022-98023884a749",
    "tags": []
   },
   "outputs": [
    {
     "data": {
      "text/plain": [
       "Sequential(\n",
       "  (0): Linear(in_features=12, out_features=64, bias=True)\n",
       "  (1): ReLU()\n",
       "  (2): Linear(in_features=64, out_features=32, bias=True)\n",
       "  (3): ReLU()\n",
       "  (4): Linear(in_features=32, out_features=16, bias=True)\n",
       "  (5): ReLU()\n",
       "  (6): Linear(in_features=16, out_features=8, bias=True)\n",
       "  (7): ReLU()\n",
       "  (8): Linear(in_features=8, out_features=1, bias=True)\n",
       ")"
      ]
     },
     "execution_count": 11,
     "metadata": {},
     "output_type": "execute_result"
    }
   ],
   "source": [
    "model"
   ]
  },
  {
   "cell_type": "markdown",
   "metadata": {
    "id": "xFbRtOqLfnh6",
    "tags": []
   },
   "source": [
    "##2-2: Loss and Optimizer"
   ]
  },
  {
   "cell_type": "code",
   "execution_count": 12,
   "metadata": {
    "id": "EpzTOAOafj8e",
    "tags": []
   },
   "outputs": [],
   "source": [
    "loss_fn = nn.BCEWithLogitsLoss()\n",
    "optimizer = optim.SGD(model.parameters() , lr=0.5)"
   ]
  },
  {
   "cell_type": "code",
   "execution_count": 13,
   "metadata": {
    "id": "4Y06w7ke7oHh",
    "jupyter": {
     "source_hidden": true
    },
    "tags": []
   },
   "outputs": [],
   "source": [
    "divice = 'cuda' if torch.cuda.is_available() else 'cpu'"
   ]
  },
  {
   "cell_type": "code",
   "execution_count": 14,
   "metadata": {
    "id": "8dtUMYG_fLVS"
   },
   "outputs": [],
   "source": [
    "model = model.to(divice)"
   ]
  },
  {
   "cell_type": "markdown",
   "metadata": {
    "id": "smHqYYnjfz0v",
    "tags": []
   },
   "source": [
    "#**Section 4: Train Model🤓**"
   ]
  },
  {
   "cell_type": "markdown",
   "metadata": {
    "id": "mbpEEA0g1-Be",
    "tags": []
   },
   "source": [
    "##4-1:Utils"
   ]
  },
  {
   "cell_type": "code",
   "execution_count": 15,
   "metadata": {
    "id": "G6s889_UrqDT",
    "jupyter": {
     "source_hidden": true
    },
    "tags": []
   },
   "outputs": [],
   "source": [
    "class AverageMeter(object):\n",
    "    \"\"\"Computes and stores the average and current value\"\"\"\n",
    "    def __init__(self):\n",
    "        self.reset()\n",
    "\n",
    "    def reset(self):\n",
    "        self.val = 0\n",
    "        self.avg = 0\n",
    "        self.sum = 0\n",
    "        self.count = 0\n",
    "\n",
    "    def update(self, val, n=1):\n",
    "        self.val = val\n",
    "        self.sum += val * n\n",
    "        self.count += n\n",
    "        self.avg = self.sum / self.count"
   ]
  },
  {
   "cell_type": "markdown",
   "metadata": {
    "id": "4eRJfJv_EtQ8",
    "tags": []
   },
   "source": [
    "##4-1: Torchmetrics"
   ]
  },
  {
   "cell_type": "code",
   "execution_count": 16,
   "metadata": {
    "id": "Xy4Y_D3TS3Ud",
    "jupyter": {
     "source_hidden": true
    },
    "tags": []
   },
   "outputs": [],
   "source": [
    "from torchmetrics import Accuracy"
   ]
  },
  {
   "cell_type": "markdown",
   "metadata": {
    "id": "zzw9GTrIS_wJ",
    "tags": []
   },
   "source": [
    "##4-2:Train Loop"
   ]
  },
  {
   "cell_type": "code",
   "execution_count": 17,
   "metadata": {},
   "outputs": [
    {
     "name": "stdout",
     "output_type": "stream",
     "text": [
      "Epoch 0\n",
      "Train: Loss = 0.7298, Acc = 0.6884\n",
      "Valid: Loss = 0.6878, Acc = 0.62\n",
      "\n",
      "Epoch 2\n",
      "Train: Loss = 0.6554, Acc = 0.6884\n",
      "Valid: Loss = 0.6457, Acc = 0.68\n",
      "\n",
      "Epoch 4\n",
      "Train: Loss = 0.6245, Acc = 0.6884\n",
      "Valid: Loss = 0.6308, Acc = 0.68\n",
      "\n",
      "Epoch 6\n",
      "Train: Loss = 0.6106, Acc = 0.6884\n",
      "Valid: Loss = 0.6246, Acc = 0.68\n",
      "\n",
      "Epoch 8\n",
      "Train: Loss = 0.6003, Acc = 0.6884\n",
      "Valid: Loss = 0.6194, Acc = 0.68\n",
      "\n",
      "Epoch 10\n",
      "Train: Loss = 0.5885, Acc = 0.6884\n",
      "Valid: Loss = 0.6124, Acc = 0.68\n",
      "\n",
      "Epoch 12\n",
      "Train: Loss = 0.5711, Acc = 0.6884\n",
      "Valid: Loss = 0.6003, Acc = 0.68\n",
      "\n",
      "Epoch 14\n",
      "Train: Loss = 0.5436, Acc = 0.6884\n",
      "Valid: Loss = 0.5825, Acc = 0.68\n",
      "\n",
      "Epoch 16\n",
      "Train: Loss = 0.5059, Acc = 0.6935\n",
      "Valid: Loss = 0.5635, Acc = 0.68\n",
      "\n",
      "Epoch 18\n",
      "Train: Loss = 0.4585, Acc = 0.7236\n",
      "Valid: Loss = 0.542, Acc = 0.78\n",
      "\n",
      "Epoch 20\n",
      "Train: Loss = 0.4055, Acc = 0.8141\n",
      "Valid: Loss = 0.5333, Acc = 0.8\n",
      "\n",
      "Epoch 22\n",
      "Train: Loss = 0.3612, Acc = 0.8693\n",
      "Valid: Loss = 0.5385, Acc = 0.76\n",
      "\n",
      "Epoch 24\n",
      "Train: Loss = 0.3282, Acc = 0.8693\n",
      "Valid: Loss = 0.5526, Acc = 0.8\n",
      "\n",
      "Epoch 26\n",
      "Train: Loss = 0.3041, Acc = 0.8945\n",
      "Valid: Loss = 0.575, Acc = 0.82\n",
      "\n",
      "Epoch 28\n",
      "Train: Loss = 0.2861, Acc = 0.8945\n",
      "Valid: Loss = 0.5986, Acc = 0.82\n",
      "\n",
      "Epoch 30\n",
      "Train: Loss = 0.2711, Acc = 0.8995\n",
      "Valid: Loss = 0.6289, Acc = 0.82\n",
      "\n",
      "Epoch 32\n",
      "Train: Loss = 0.2638, Acc = 0.9045\n",
      "Valid: Loss = 0.6941, Acc = 0.8\n",
      "\n",
      "Epoch 34\n",
      "Train: Loss = 0.3036, Acc = 0.8693\n",
      "Valid: Loss = 0.8893, Acc = 0.76\n",
      "\n",
      "Epoch 36\n",
      "Train: Loss = 0.4824, Acc = 0.7538\n",
      "Valid: Loss = 0.8646, Acc = 0.76\n",
      "\n",
      "Epoch 38\n",
      "Train: Loss = 0.2796, Acc = 0.8744\n",
      "Valid: Loss = 0.6845, Acc = 0.78\n",
      "\n",
      "Epoch 40\n",
      "Train: Loss = 0.2377, Acc = 0.9095\n",
      "Valid: Loss = 0.6828, Acc = 0.8\n",
      "\n",
      "Epoch 42\n",
      "Train: Loss = 0.2253, Acc = 0.9246\n",
      "Valid: Loss = 0.702, Acc = 0.8\n",
      "\n",
      "Epoch 44\n",
      "Train: Loss = 0.2162, Acc = 0.9246\n",
      "Valid: Loss = 0.7246, Acc = 0.8\n",
      "\n",
      "Epoch 46\n",
      "Train: Loss = 0.2083, Acc = 0.9347\n",
      "Valid: Loss = 0.75, Acc = 0.8\n",
      "\n",
      "Epoch 48\n",
      "Train: Loss = 0.2012, Acc = 0.9347\n",
      "Valid: Loss = 0.7824, Acc = 0.8\n",
      "\n"
     ]
    }
   ],
   "source": [
    "num_epoch = 50\n",
    "\n",
    "loss_train_hist = []\n",
    "loss_valid_hist = []\n",
    "\n",
    "acc_train_hist = []\n",
    "acc_valid_hist = []\n",
    "\n",
    "best_loss = torch.inf\n",
    "\n",
    "grads_names = []\n",
    "grads_params = []\n",
    "\n",
    "since = time.time()\n",
    "for epoch in range(num_epoch):\n",
    "\n",
    "  loss_train = AverageMeter()\n",
    "  acc_train = Accuracy(task='binary').to(divice)\n",
    "\n",
    "  for i , (inputs , targets) in enumerate(train_loader):\n",
    "    inputs = inputs.to(divice)\n",
    "    targets = targets.to(divice)\n",
    "\n",
    "    outputs = model(inputs)\n",
    "    loss = loss_fn(outputs , targets.unsqueeze(dim=1))\n",
    "    optimizer.zero_grad()\n",
    "    loss.backward()\n",
    "    optimizer.step()\n",
    "    \n",
    "    for name , param in model.named_parameters():\n",
    "      grads_names.append(name)\n",
    "      grads_params.append(param.grad)\n",
    "                          \n",
    "    \n",
    "    \n",
    "\n",
    "    loss_train.update(loss.item())\n",
    "    acc_train(outputs , targets.unsqueeze(dim=1))\n",
    "\n",
    "  with torch.no_grad():\n",
    "    loss_valid = AverageMeter()\n",
    "    acc_valid = Accuracy(task='binary').to(divice)\n",
    "\n",
    "    for i , (inputs , targets) in enumerate(valid_loader):\n",
    "      inputs = inputs.to(divice)\n",
    "      targets = targets.to(divice)\n",
    "\n",
    "      outputs = model(inputs)\n",
    "\n",
    "      loss = loss_fn(outputs , targets.unsqueeze(dim=1))\n",
    "      loss_valid.update(loss.item())\n",
    "      acc_valid(outputs , targets.unsqueeze(dim=1))\n",
    "\n",
    "\n",
    "\n",
    "  loss_train_hist.append(loss_train.avg)\n",
    "  loss_valid_hist.append(loss_valid.avg)\n",
    "\n",
    "  acc_train_hist.append(acc_train.compute().cpu().numpy())\n",
    "  acc_valid_hist.append(acc_valid.compute().cpu().numpy())\n",
    "\n",
    "  if loss_valid.avg < best_loss:\n",
    "    best_loss = loss_valid.avg\n",
    "    best_epoch = epoch\n",
    "\n",
    "  if epoch % 2 == 0:\n",
    "    print(f'Epoch {epoch}')\n",
    "    print(f'Train: Loss = {loss_train.avg:.4}, Acc = {acc_train.compute():.4}')\n",
    "    print(f'Valid: Loss = {loss_valid.avg:.4}, Acc = {acc_valid.compute():.4}')\n",
    "    print()\n",
    "\n",
    "time_elapsed = time.time() - since"
   ]
  },
  {
   "cell_type": "markdown",
   "metadata": {
    "id": "8iU-1IXyZPi9",
    "tags": []
   },
   "source": [
    "#**Section 5: Result📈**"
   ]
  },
  {
   "cell_type": "code",
   "execution_count": 18,
   "metadata": {
    "colab": {
     "base_uri": "https://localhost:8080/"
    },
    "id": "zCrmrkfBew-K",
    "outputId": "1700e880-598e-4762-b5ff-416c682df92c",
    "tags": []
   },
   "outputs": [
    {
     "name": "stdout",
     "output_type": "stream",
     "text": [
      "train time is: 3.28\n"
     ]
    }
   ],
   "source": [
    "## Train Time\n",
    "print(f'train time is: {time_elapsed:.2f}')"
   ]
  },
  {
   "cell_type": "code",
   "execution_count": 20,
   "metadata": {},
   "outputs": [],
   "source": [
    "def chunk(lst , n):\n",
    "    return [lst[i:i+n] for i in range(0 , len(lst) , n)]"
   ]
  },
  {
   "cell_type": "code",
   "execution_count": 21,
   "metadata": {},
   "outputs": [],
   "source": [
    "num_parameter = sum(p.numel() for p in model.parameters() if p.requires_grad)"
   ]
  },
  {
   "cell_type": "code",
   "execution_count": 22,
   "metadata": {},
   "outputs": [
    {
     "data": {
      "text/plain": [
       "35850"
      ]
     },
     "execution_count": 22,
     "metadata": {},
     "output_type": "execute_result"
    }
   ],
   "source": [
    "num_parameter * 10"
   ]
  },
  {
   "cell_type": "code",
   "execution_count": 23,
   "metadata": {},
   "outputs": [],
   "source": [
    "grads = chunk(grads_params , 10)"
   ]
  },
  {
   "cell_type": "code",
   "execution_count": null,
   "metadata": {},
   "outputs": [],
   "source": []
  },
  {
   "cell_type": "markdown",
   "metadata": {
    "id": "imBBRgCff2-d"
   },
   "source": [
    "##5-1:Plot loss and acc"
   ]
  },
  {
   "cell_type": "code",
   "execution_count": 19,
   "metadata": {
    "colab": {
     "base_uri": "https://localhost:8080/",
     "height": 471
    },
    "id": "2nHFG82ZZWgF",
    "outputId": "5a05993b-fc88-4cdb-be22-0a4d5794551b"
   },
   "outputs": [
    {
     "ename": "NameError",
     "evalue": "name 'all_grads_tensor' is not defined",
     "output_type": "error",
     "traceback": [
      "\u001b[1;31m---------------------------------------------------------------------------\u001b[0m",
      "\u001b[1;31mNameError\u001b[0m                                 Traceback (most recent call last)",
      "\u001b[1;32m<ipython-input-19-25af6cf0d802>\u001b[0m in \u001b[0;36m<module>\u001b[1;34m\u001b[0m\n\u001b[0;32m     15\u001b[0m \u001b[1;33m\u001b[0m\u001b[0m\n\u001b[0;32m     16\u001b[0m \u001b[1;33m\u001b[0m\u001b[0m\n\u001b[1;32m---> 17\u001b[1;33m \u001b[0msns\u001b[0m\u001b[1;33m.\u001b[0m\u001b[0mkdeplot\u001b[0m\u001b[1;33m(\u001b[0m\u001b[0mall_grads_tensor\u001b[0m\u001b[1;33m[\u001b[0m\u001b[1;33m:\u001b[0m\u001b[1;36m35850\u001b[0m\u001b[1;33m]\u001b[0m \u001b[1;33m,\u001b[0m \u001b[0mfill\u001b[0m\u001b[1;33m=\u001b[0m\u001b[1;32mTrue\u001b[0m \u001b[1;33m,\u001b[0m \u001b[0max\u001b[0m\u001b[1;33m=\u001b[0m\u001b[0maxes_flatt\u001b[0m\u001b[1;33m[\u001b[0m\u001b[1;36m1\u001b[0m\u001b[1;33m]\u001b[0m\u001b[1;33m)\u001b[0m\u001b[1;33m;\u001b[0m\u001b[1;33m\u001b[0m\u001b[1;33m\u001b[0m\u001b[0m\n\u001b[0m\u001b[0;32m     18\u001b[0m \u001b[0maxes_flatt\u001b[0m\u001b[1;33m[\u001b[0m\u001b[1;36m1\u001b[0m\u001b[1;33m]\u001b[0m\u001b[1;33m.\u001b[0m\u001b[0mset_title\u001b[0m\u001b[1;33m(\u001b[0m\u001b[1;34mf'Gradients'\u001b[0m \u001b[1;33m,\u001b[0m \u001b[0mfontfamily\u001b[0m\u001b[1;33m=\u001b[0m\u001b[1;34m'Serif'\u001b[0m\u001b[1;33m)\u001b[0m\u001b[1;33m\u001b[0m\u001b[1;33m\u001b[0m\u001b[0m\n\u001b[0;32m     19\u001b[0m \u001b[1;33m\u001b[0m\u001b[0m\n",
      "\u001b[1;31mNameError\u001b[0m: name 'all_grads_tensor' is not defined"
     ]
    },
    {
     "data": {
      "image/png": "[encoded data removed]",
      "text/plain": [
       "<Figure size 720x288 with 2 Axes>"
      ]
     },
     "metadata": {
      "needs_background": "light"
     },
     "output_type": "display_data"
    }
   ],
   "source": [
    "## plot loss_epoch\n",
    "fig , axes = plt.subplots(1, 2 , figsize=(10 , 4))\n",
    "axes_flatt = axes.flatten()\n",
    "\n",
    "    \n",
    "axes_flatt[0].plot(range(num_epoch), loss_train_hist, 'r-', label='Train');\n",
    "axes_flatt[0].plot(range(num_epoch), loss_valid_hist, 'b-', label='Validation');\n",
    "axes_flatt[0].axvline(best_epoch , ls='--' , c='g' , label='Early Stop');\n",
    "axes_flatt[0].axvspan(xmin=0, xmax=10 , alpha=0.5 , color='yellow');\n",
    "\n",
    "axes_flatt[0].set_xlabel('Epoch');\n",
    "axes_flatt[0].set_title(f'lr=0.5 / Num Layers=5' , fontfamily='Serif')\n",
    "axes_flatt[0].set_ylabel('Loss');\n",
    "axes_flatt[0].legend();\n",
    "\n",
    "\n",
    "sns.kdeplot(all_grads_tensor[:35850] , fill=True , ax=axes_flatt[1]);\n",
    "axes_flatt[1].set_title(f'Gradients' , fontfamily='Serif')\n",
    "\n",
    "plt.savefig('main plot') "
   ]
  },
  {
   "cell_type": "code",
   "execution_count": null,
   "metadata": {},
   "outputs": [],
   "source": [
    "fig , axes = plt.subplots(1, 2 , figsize=(10 , 4))\n",
    "axes_flatt = axes.flatten()\n",
    "\n",
    "    \n",
    "axes_flatt[0].plot(range(num_epoch), loss_train_hist, 'r-', label='Train');\n",
    "axes_flatt[0].plot(range(num_epoch), loss_valid_hist, 'b-', label='Validation');\n",
    "axes_flatt[0].axvline(best_epoch , ls='--' , c='g' , label='Early Stop');\n",
    "axes_flatt[0].axvspan(xmin=10, xmax=20 , alpha=0.5 , color='yellow');\n",
    "\n",
    "axes_flatt[0].set_xlabel('Epoch');\n",
    "axes_flatt[0].set_title(f'lr=0.5 / Num Layers=5' , fontfamily='Serif')\n",
    "axes_flatt[0].set_ylabel('Loss');\n",
    "axes_flatt[0].legend();\n",
    "\n",
    "\n",
    "sns.kdeplot(all_grads_tensor[35850:35850*2] , fill=True , ax=axes_flatt[1]);\n",
    "axes_flatt[1].set_title(f'Gradients' , fontfamily='Serif')\n",
    "\n",
    "plt.savefig('main plot2') "
   ]
  },
  {
   "cell_type": "code",
   "execution_count": null,
   "metadata": {},
   "outputs": [],
   "source": [
    "fig , axes = plt.subplots(1, 2 , figsize=(10 , 4))\n",
    "axes_flatt = axes.flatten()\n",
    "\n",
    "    \n",
    "axes_flatt[0].plot(range(num_epoch), loss_train_hist, 'r-', label='Train');\n",
    "axes_flatt[0].plot(range(num_epoch), loss_valid_hist, 'b-', label='Validation');\n",
    "axes_flatt[0].axvline(best_epoch , ls='--' , c='g' , label='Early Stop');\n",
    "axes_flatt[0].axvspan(xmin=20, xmax=30 , alpha=0.5 , color='yellow');\n",
    "\n",
    "axes_flatt[0].set_xlabel('Epoch');\n",
    "axes_flatt[0].set_title(f'lr=0.5 / Num Layers=5' , fontfamily='Serif')\n",
    "axes_flatt[0].set_ylabel('Loss');\n",
    "axes_flatt[0].legend();\n",
    "\n",
    "\n",
    "sns.kdeplot(all_grads_tensor[35850*2:35850*3] , fill=True , ax=axes_flatt[1]);\n",
    "axes_flatt[1].set_title(f'Gradients' , fontfamily='Serif')\n",
    "\n",
    "plt.savefig('main plot3') "
   ]
  },
  {
   "cell_type": "code",
   "execution_count": null,
   "metadata": {},
   "outputs": [],
   "source": [
    "fig , axes = plt.subplots(1, 2 , figsize=(10 , 4))\n",
    "axes_flatt = axes.flatten()\n",
    "\n",
    "    \n",
    "axes_flatt[0].plot(range(num_epoch), loss_train_hist, 'r-', label='Train');\n",
    "axes_flatt[0].plot(range(num_epoch), loss_valid_hist, 'b-', label='Validation');\n",
    "axes_flatt[0].axvline(best_epoch , ls='--' , c='g' , label='Early Stop');\n",
    "axes_flatt[0].axvspan(xmin=30, xmax=40 , alpha=0.5 , color='yellow');\n",
    "\n",
    "axes_flatt[0].set_xlabel('Epoch');\n",
    "axes_flatt[0].set_title(f'lr=0.5 / Num Layers=5' , fontfamily='Serif')\n",
    "axes_flatt[0].set_ylabel('Loss');\n",
    "axes_flatt[0].legend();\n",
    "\n",
    "\n",
    "sns.kdeplot(all_grads_tensor[35850*3:35850*4] , fill=True , ax=axes_flatt[1]);\n",
    "axes_flatt[1].set_title(f'Gradients' , fontfamily='Serif')\n",
    "\n",
    "plt.savefig('main plot4') "
   ]
  },
  {
   "cell_type": "code",
   "execution_count": null,
   "metadata": {},
   "outputs": [],
   "source": [
    "fig , axes = plt.subplots(1, 2 , figsize=(10 , 4))\n",
    "axes_flatt = axes.flatten()\n",
    "\n",
    "    \n",
    "axes_flatt[0].plot(range(num_epoch), loss_train_hist, 'r-', label='Train');\n",
    "axes_flatt[0].plot(range(num_epoch), loss_valid_hist, 'b-', label='Validation');\n",
    "axes_flatt[0].axvline(best_epoch , ls='--' , c='g' , label='Early Stop');\n",
    "axes_flatt[0].axvspan(xmin=40, xmax=50 , alpha=0.5 , color='yellow');\n",
    "\n",
    "axes_flatt[0].set_xlabel('Epoch');\n",
    "axes_flatt[0].set_title(f'lr=0.5 / Num Layers=5' , fontfamily='Serif')\n",
    "axes_flatt[0].set_ylabel('Loss');\n",
    "axes_flatt[0].legend();\n",
    "\n",
    "\n",
    "sns.kdeplot(all_grads_tensor[35850*4:35850*5] , fill=True , ax=axes_flatt[1]);\n",
    "axes_flatt[1].set_title(f'Gradients' , fontfamily='Serif')\n",
    "\n",
    "plt.savefig('main plot5') "
   ]
  },
  {
   "cell_type": "code",
   "execution_count": null,
   "metadata": {},
   "outputs": [],
   "source": []
  },
  {
   "cell_type": "code",
   "execution_count": null,
   "metadata": {},
   "outputs": [],
   "source": []
  },
  {
   "cell_type": "code",
   "execution_count": null,
   "metadata": {},
   "outputs": [],
   "source": []
  },
  {
   "cell_type": "code",
   "execution_count": null,
   "metadata": {},
   "outputs": [],
   "source": []
  },
  {
   "cell_type": "code",
   "execution_count": null,
   "metadata": {},
   "outputs": [],
   "source": []
  },
  {
   "cell_type": "code",
   "execution_count": null,
   "metadata": {
    "tags": []
   },
   "outputs": [],
   "source": [
    "all_grads_tensor = torch.cat(all_grads , dim=0)\n",
    "len(all_grads_tensor)"
   ]
  }
 ],
 "metadata": {
  "accelerator": "GPU",
  "colab": {
   "gpuType": "T4",
   "provenance": []
  },
  "kernelspec": {
   "display_name": "Python 3",
   "language": "python",
   "name": "python3"
  },
  "language_info": {
   "codemirror_mode": {
    "name": "ipython",
    "version": 3
   },
   "file_extension": ".py",
   "mimetype": "text/x-python",
   "name": "python",
   "nbconvert_exporter": "python",
   "pygments_lexer": "ipython3",
   "version": "3.7.16"
  }
 },
 "nbformat": 4,
 "nbformat_minor": 4
}
